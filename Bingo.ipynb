{
 "cells": [
  {
   "cell_type": "markdown",
   "metadata": {},
   "source": [
    "*************************************\n",
    "*************************************\n",
    "# LET'S PLAY BINGO\n",
    "*************************************\n",
    "*************************************  \n",
    "Author: Probal Mojumder  \n",
    "Date: 9th April, 2020"
   ]
  },
  {
   "cell_type": "markdown",
   "metadata": {},
   "source": [
    "## A. Creating the BINGO cards  \n",
    "  \n",
    "  ### 1. Whole 5 by 5 cards with 1 to 75 as numbers"
   ]
  },
  {
   "cell_type": "code",
   "execution_count": 1,
   "metadata": {},
   "outputs": [],
   "source": [
    "import numpy as np"
   ]
  },
  {
   "cell_type": "code",
   "execution_count": 2,
   "metadata": {},
   "outputs": [],
   "source": [
    "def unique_rand_func(n):\n",
    "    rand = (np.random.randint(n) + 1)\n",
    "    if rand not in index:\n",
    "        return rand\n",
    "    else:\n",
    "        rand = unique_rand_func(n)\n",
    "        return rand"
   ]
  },
  {
   "cell_type": "code",
   "execution_count": 3,
   "metadata": {},
   "outputs": [
    {
     "data": {
      "text/plain": [
       "array([[0., 0., 0., 0., 0.],\n",
       "       [0., 0., 0., 0., 0.],\n",
       "       [0., 0., 0., 0., 0.],\n",
       "       [0., 0., 0., 0., 0.],\n",
       "       [0., 0., 0., 0., 0.]])"
      ]
     },
     "execution_count": 3,
     "metadata": {},
     "output_type": "execute_result"
    }
   ],
   "source": [
    "card = np.zeros((5,5))\n",
    "card"
   ]
  },
  {
   "cell_type": "code",
   "execution_count": 4,
   "metadata": {},
   "outputs": [],
   "source": [
    "index = []\n",
    "for i in range(5):\n",
    "    for j in range(5):\n",
    "            current_rand = unique_rand_func(75)\n",
    "            card[i][j] = current_rand\n",
    "            index.append(current_rand)"
   ]
  },
  {
   "cell_type": "code",
   "execution_count": 5,
   "metadata": {},
   "outputs": [
    {
     "data": {
      "text/plain": [
       "array([[67., 17., 43.,  7., 75.],\n",
       "       [ 8.,  9.,  5., 57., 35.],\n",
       "       [72., 54., 22., 23., 37.],\n",
       "       [13.,  4.,  1., 36., 63.],\n",
       "       [59., 24., 47., 40., 31.]])"
      ]
     },
     "execution_count": 5,
     "metadata": {},
     "output_type": "execute_result"
    }
   ],
   "source": [
    "card"
   ]
  },
  {
   "cell_type": "markdown",
   "metadata": {},
   "source": [
    "  ### 2. Whole 5 by 5 cards with 1 to 75 as numbers, such that 1st column 1 to 15, 2nd column 16 to 30, so on .."
   ]
  },
  {
   "cell_type": "code",
   "execution_count": 6,
   "metadata": {},
   "outputs": [
    {
     "data": {
      "text/plain": [
       "array([[0., 0., 0., 0., 0.],\n",
       "       [0., 0., 0., 0., 0.],\n",
       "       [0., 0., 0., 0., 0.],\n",
       "       [0., 0., 0., 0., 0.],\n",
       "       [0., 0., 0., 0., 0.]])"
      ]
     },
     "execution_count": 6,
     "metadata": {},
     "output_type": "execute_result"
    }
   ],
   "source": [
    "card = np.zeros((5,5))\n",
    "card"
   ]
  },
  {
   "cell_type": "code",
   "execution_count": 7,
   "metadata": {},
   "outputs": [],
   "source": [
    "for j in range(5):\n",
    "    index = []\n",
    "    for i in range(5):\n",
    "            current_rand = unique_rand_func(15)\n",
    "            card[i][j] = current_rand + j*15\n",
    "            index.append(current_rand)"
   ]
  },
  {
   "cell_type": "code",
   "execution_count": 8,
   "metadata": {},
   "outputs": [
    {
     "data": {
      "text/plain": [
       "array([[ 5., 26., 33., 55., 61.],\n",
       "       [ 3., 20., 31., 59., 65.],\n",
       "       [15., 22., 43., 58., 71.],\n",
       "       [ 6., 29., 35., 48., 70.],\n",
       "       [ 1., 28., 39., 52., 63.]])"
      ]
     },
     "execution_count": 8,
     "metadata": {},
     "output_type": "execute_result"
    }
   ],
   "source": [
    "card"
   ]
  },
  {
   "cell_type": "markdown",
   "metadata": {},
   "source": [
    "## B. Playing BINGO   "
   ]
  },
  {
   "cell_type": "code",
   "execution_count": 9,
   "metadata": {},
   "outputs": [
    {
     "name": "stdout",
     "output_type": "stream",
     "text": [
      "Bingo!!!\n",
      "Play round is 52\n"
     ]
    }
   ],
   "source": [
    "index = []\n",
    "count = 0\n",
    "\n",
    "while count <= 75:\n",
    "    rand = unique_rand_func(75)\n",
    "    index.append(rand)\n",
    "    \n",
    "    # Is the number in card?\n",
    "    for i in range(5):\n",
    "        for j in range(5):\n",
    "            if card[i][j] == rand:\n",
    "                card[i][j] = 0\n",
    "    \n",
    "    # Check for a BINGO!\n",
    "    card_hsum = np.sum(card, axis=1)\n",
    "    card_vsum = np.sum(card, axis=0) \n",
    "    card_diag = card.diagonal().sum()\n",
    "    card_flip_diag = np.fliplr(card).diagonal().sum()\n",
    "    card_center_and_corners = card[0][0] + card[0][4] + card[4][0] + card[4][4] + card[2][2]\n",
    "    \n",
    "    if (0 in card_hsum) or (0 in card_vsum) or 0==card_diag or 0==card_flip_diag or 0==card_center_and_corners:\n",
    "        print(\"Bingo!!!\")\n",
    "        print(f\"Play round is {count}\")\n",
    "        break\n",
    "    \n",
    "    count += 1            "
   ]
  },
  {
   "cell_type": "code",
   "execution_count": 10,
   "metadata": {},
   "outputs": [
    {
     "data": {
      "text/plain": [
       "[54,\n",
       " 21,\n",
       " 13,\n",
       " 61,\n",
       " 67,\n",
       " 27,\n",
       " 18,\n",
       " 48,\n",
       " 42,\n",
       " 64,\n",
       " 19,\n",
       " 5,\n",
       " 11,\n",
       " 58,\n",
       " 62,\n",
       " 33,\n",
       " 9,\n",
       " 45,\n",
       " 46,\n",
       " 25,\n",
       " 59,\n",
       " 10,\n",
       " 38,\n",
       " 43,\n",
       " 2,\n",
       " 39,\n",
       " 41,\n",
       " 36,\n",
       " 69,\n",
       " 14,\n",
       " 66,\n",
       " 30,\n",
       " 72,\n",
       " 37,\n",
       " 3,\n",
       " 23,\n",
       " 15,\n",
       " 8,\n",
       " 28,\n",
       " 49,\n",
       " 24,\n",
       " 32,\n",
       " 51,\n",
       " 17,\n",
       " 60,\n",
       " 1,\n",
       " 74,\n",
       " 35,\n",
       " 52,\n",
       " 34,\n",
       " 73,\n",
       " 71,\n",
       " 55]"
      ]
     },
     "execution_count": 10,
     "metadata": {},
     "output_type": "execute_result"
    }
   ],
   "source": [
    "index #The BINGO Calls"
   ]
  },
  {
   "cell_type": "code",
   "execution_count": 11,
   "metadata": {},
   "outputs": [
    {
     "data": {
      "text/plain": [
       "array([[ 0., 26.,  0.,  0.,  0.],\n",
       "       [ 0., 20., 31.,  0., 65.],\n",
       "       [ 0., 22.,  0.,  0.,  0.],\n",
       "       [ 6., 29.,  0.,  0., 70.],\n",
       "       [ 0.,  0.,  0.,  0., 63.]])"
      ]
     },
     "execution_count": 11,
     "metadata": {},
     "output_type": "execute_result"
    }
   ],
   "source": [
    "card #The BINGO Card"
   ]
  },
  {
   "cell_type": "code",
   "execution_count": null,
   "metadata": {},
   "outputs": [],
   "source": []
  }
 ],
 "metadata": {
  "kernelspec": {
   "display_name": "Python 3",
   "language": "python",
   "name": "python3"
  },
  "language_info": {
   "codemirror_mode": {
    "name": "ipython",
    "version": 3
   },
   "file_extension": ".py",
   "mimetype": "text/x-python",
   "name": "python",
   "nbconvert_exporter": "python",
   "pygments_lexer": "ipython3",
   "version": "3.7.4"
  }
 },
 "nbformat": 4,
 "nbformat_minor": 2
}
