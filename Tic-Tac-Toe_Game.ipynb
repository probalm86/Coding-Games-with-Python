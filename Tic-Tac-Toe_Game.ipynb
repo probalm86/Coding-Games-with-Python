{
 "cells": [
  {
   "cell_type": "markdown",
   "metadata": {},
   "source": [
    "# Let's Play Tic-Tac-Toe...  \n",
    "\n",
    "Author: Probal Mojumder  \n",
    "Date: 13th May, 2020\n",
    "\n",
    "The rules for the game:  \n",
    "- Two players can play the game (both sitting at the same computer).  \n",
    "- The board will be printed out every time a player makes a move.  \n",
    "- We accept input of the player's position and then place the symbol on the board."
   ]
  },
  {
   "cell_type": "markdown",
   "metadata": {},
   "source": [
    "# A. Basic Setup  \n",
    "\n",
    "## 1. The Tic-Tac-Toe Board"
   ]
  },
  {
   "cell_type": "code",
   "execution_count": 1,
   "metadata": {},
   "outputs": [],
   "source": [
    "def tic_tac_toe_board(numlist):\n",
    "    print(\"###################\")\n",
    "    print(\"#     |     |     #\")\n",
    "    print(f\"#  {numlist[6]}  |  {numlist[7]}  |  {numlist[8]}  #\")\n",
    "    print(\"#-----|-----|-----#\")\n",
    "    print(f\"#  {numlist[3]}  |  {numlist[4]}  |  {numlist[5]}  #\")\n",
    "    print(\"#-----|-----|-----#\")\n",
    "    print(f\"#  {numlist[0]}  |  {numlist[1]}  |  {numlist[2]}  #\")\n",
    "    print(\"#     |     |     #\")\n",
    "    print(\"###################\")"
   ]
  },
  {
   "cell_type": "code",
   "execution_count": 2,
   "metadata": {},
   "outputs": [
    {
     "data": {
      "text/plain": [
       "[' ', ' ', ' ', ' ', ' ', ' ', ' ', ' ', ' ']"
      ]
     },
     "execution_count": 2,
     "metadata": {},
     "output_type": "execute_result"
    }
   ],
   "source": [
    "numlist = [\" \"]*9\n",
    "numlist"
   ]
  },
  {
   "cell_type": "code",
   "execution_count": 3,
   "metadata": {},
   "outputs": [
    {
     "name": "stdout",
     "output_type": "stream",
     "text": [
      "###################\n",
      "#     |     |     #\n",
      "#     |     |     #\n",
      "#-----|-----|-----#\n",
      "#     |     |     #\n",
      "#-----|-----|-----#\n",
      "#     |     |     #\n",
      "#     |     |     #\n",
      "###################\n"
     ]
    }
   ],
   "source": [
    "tic_tac_toe_board(numlist)"
   ]
  },
  {
   "cell_type": "markdown",
   "metadata": {},
   "source": [
    "## 2. Players Choosing 'X' or 'O'"
   ]
  },
  {
   "cell_type": "code",
   "execution_count": 4,
   "metadata": {},
   "outputs": [],
   "source": [
    "def players_side():\n",
    "    player1_marker = \"\"\n",
    "    while player1_marker not in [\"X\",\"O\"]:\n",
    "        player1_marker = input(\"Player 1, choose your symbol: X or O? \")\n",
    "        \n",
    "        if player1_marker == \"X\":\n",
    "            player2_marker = \"O\"\n",
    "        else:\n",
    "            player2_marker = \"X\"\n",
    "    print(f\"Player 1 is {player1_marker}.\")\n",
    "    print(f\"Player 2 is {player2_marker}.\")\n",
    "    return (player1_marker, player2_marker)"
   ]
  },
  {
   "cell_type": "code",
   "execution_count": 5,
   "metadata": {},
   "outputs": [
    {
     "name": "stdout",
     "output_type": "stream",
     "text": [
      "Player 1, choose your symbol: X or O? X\n",
      "Player 1 is X.\n",
      "Player 2 is O.\n"
     ]
    }
   ],
   "source": [
    "(player1_marker,player2_marker) = players_side()\n"
   ]
  },
  {
   "cell_type": "markdown",
   "metadata": {},
   "source": [
    "## 3. Registering Players' Inputs"
   ]
  },
  {
   "cell_type": "code",
   "execution_count": 6,
   "metadata": {},
   "outputs": [],
   "source": [
    "def play_input():    \n",
    "    play=0\n",
    "    while play not in range(1,10):\n",
    "        play = input(\"Enter number between 1 and 9: \")\n",
    "        if play.isnumeric():\n",
    "            play = int(play)\n",
    "    return play"
   ]
  },
  {
   "cell_type": "markdown",
   "metadata": {},
   "source": [
    "## 4. End of Game Conditions"
   ]
  },
  {
   "cell_type": "code",
   "execution_count": 7,
   "metadata": {},
   "outputs": [],
   "source": [
    "def game_end(numlist):\n",
    "    flag = [\"X\", \"O\"]\n",
    "    nums_horizontal = [0,3,6]\n",
    "    for i in nums_horizontal:\n",
    "        for j in flag:\n",
    "            if numlist[i] + numlist[i+1] + numlist[i+2] == j+j+j:\n",
    "                return True\n",
    "    nums_vertical = [0,1,2]\n",
    "    for i in nums_vertical:\n",
    "        for j in flag:\n",
    "            if numlist[i] + numlist[i+3] + numlist[i+6] == j+j+j:\n",
    "                return True\n",
    "    for j in flag:\n",
    "        if numlist[0] + numlist[4] + numlist[8] == j+j+j:\n",
    "            return True\n",
    "        elif numlist[2] + numlist[4] + numlist[6] == j+j+j:\n",
    "            return True\n",
    "    return False"
   ]
  },
  {
   "cell_type": "markdown",
   "metadata": {},
   "source": [
    "# B. The Game Play"
   ]
  },
  {
   "cell_type": "code",
   "execution_count": 8,
   "metadata": {},
   "outputs": [],
   "source": [
    "def gameplay():\n",
    "    [player1_marker,player2_marker] = players_side()\n",
    "    play_sequence = [player1_marker,player2_marker]*5\n",
    "        \n",
    "    print(\"\\n\"*3)\n",
    "    print(\"Let's start playing!!!\")\n",
    "    print(\"\\n\"*3)\n",
    "    numlist = [\" \"]*9\n",
    "    tic_tac_toe_board(numlist)\n",
    "    \n",
    "    while not game_end(numlist):\n",
    "        if len(play_sequence)==1:\n",
    "            print(\"Game ends as draw!\")\n",
    "            break\n",
    "        play = play_input()\n",
    "        numlist[play-1] = play_sequence.pop(0)\n",
    "        print(\"\\n\"*3)\n",
    "        tic_tac_toe_board(numlist)\n",
    "    else:\n",
    "        print(\"\\n\"*3)\n",
    "        if play_sequence[0] == player1_marker:\n",
    "            print(\"CONGRATS Player 2! You Won the Game!\")\n",
    "        else:\n",
    "            print(\"CONGRATS Player 1! You Won the Game!\")"
   ]
  },
  {
   "cell_type": "code",
   "execution_count": 9,
   "metadata": {},
   "outputs": [
    {
     "name": "stdout",
     "output_type": "stream",
     "text": [
      "Player 1, choose your symbol: X or O? X\n",
      "Player 1 is X.\n",
      "Player 2 is O.\n",
      "\n",
      "\n",
      "\n",
      "\n",
      "Let's start playing!!!\n",
      "\n",
      "\n",
      "\n",
      "\n",
      "###################\n",
      "#     |     |     #\n",
      "#     |     |     #\n",
      "#-----|-----|-----#\n",
      "#     |     |     #\n",
      "#-----|-----|-----#\n",
      "#     |     |     #\n",
      "#     |     |     #\n",
      "###################\n",
      "Enter number between 1 and 9: 1\n",
      "\n",
      "\n",
      "\n",
      "\n",
      "###################\n",
      "#     |     |     #\n",
      "#     |     |     #\n",
      "#-----|-----|-----#\n",
      "#     |     |     #\n",
      "#-----|-----|-----#\n",
      "#  X  |     |     #\n",
      "#     |     |     #\n",
      "###################\n",
      "Enter number between 1 and 9: 9\n",
      "\n",
      "\n",
      "\n",
      "\n",
      "###################\n",
      "#     |     |     #\n",
      "#     |     |  O  #\n",
      "#-----|-----|-----#\n",
      "#     |     |     #\n",
      "#-----|-----|-----#\n",
      "#  X  |     |     #\n",
      "#     |     |     #\n",
      "###################\n",
      "Enter number between 1 and 9: 3\n",
      "\n",
      "\n",
      "\n",
      "\n",
      "###################\n",
      "#     |     |     #\n",
      "#     |     |  O  #\n",
      "#-----|-----|-----#\n",
      "#     |     |     #\n",
      "#-----|-----|-----#\n",
      "#  X  |     |  X  #\n",
      "#     |     |     #\n",
      "###################\n",
      "Enter number between 1 and 9: 2\n",
      "\n",
      "\n",
      "\n",
      "\n",
      "###################\n",
      "#     |     |     #\n",
      "#     |     |  O  #\n",
      "#-----|-----|-----#\n",
      "#     |     |     #\n",
      "#-----|-----|-----#\n",
      "#  X  |  O  |  X  #\n",
      "#     |     |     #\n",
      "###################\n",
      "Enter number between 1 and 9: 7\n",
      "\n",
      "\n",
      "\n",
      "\n",
      "###################\n",
      "#     |     |     #\n",
      "#  X  |     |  O  #\n",
      "#-----|-----|-----#\n",
      "#     |     |     #\n",
      "#-----|-----|-----#\n",
      "#  X  |  O  |  X  #\n",
      "#     |     |     #\n",
      "###################\n",
      "Enter number between 1 and 9: 4\n",
      "\n",
      "\n",
      "\n",
      "\n",
      "###################\n",
      "#     |     |     #\n",
      "#  X  |     |  O  #\n",
      "#-----|-----|-----#\n",
      "#  O  |     |     #\n",
      "#-----|-----|-----#\n",
      "#  X  |  O  |  X  #\n",
      "#     |     |     #\n",
      "###################\n",
      "Enter number between 1 and 9: 5\n",
      "\n",
      "\n",
      "\n",
      "\n",
      "###################\n",
      "#     |     |     #\n",
      "#  X  |     |  O  #\n",
      "#-----|-----|-----#\n",
      "#  O  |  X  |     #\n",
      "#-----|-----|-----#\n",
      "#  X  |  O  |  X  #\n",
      "#     |     |     #\n",
      "###################\n",
      "\n",
      "\n",
      "\n",
      "\n",
      "CONGRATS Player 1! You Won the Game!\n"
     ]
    }
   ],
   "source": [
    "gameplay()"
   ]
  },
  {
   "cell_type": "code",
   "execution_count": null,
   "metadata": {},
   "outputs": [],
   "source": []
  }
 ],
 "metadata": {
  "kernelspec": {
   "display_name": "Python 3",
   "language": "python",
   "name": "python3"
  },
  "language_info": {
   "codemirror_mode": {
    "name": "ipython",
    "version": 3
   },
   "file_extension": ".py",
   "mimetype": "text/x-python",
   "name": "python",
   "nbconvert_exporter": "python",
   "pygments_lexer": "ipython3",
   "version": "3.7.4"
  }
 },
 "nbformat": 4,
 "nbformat_minor": 2
}
